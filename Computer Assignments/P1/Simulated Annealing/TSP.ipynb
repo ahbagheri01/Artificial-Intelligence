{
  "nbformat": 4,
  "nbformat_minor": 0,
  "metadata": {
    "kernelspec": {
      "display_name": "Python 3",
      "language": "python",
      "name": "python3"
    },
    "language_info": {
      "codemirror_mode": {
        "name": "ipython",
        "version": 3
      },
      "file_extension": ".py",
      "mimetype": "text/x-python",
      "name": "python",
      "nbconvert_exporter": "python",
      "pygments_lexer": "ipython3",
      "version": "3.8.5"
    },
    "latex_envs": {
      "LaTeX_envs_menu_present": true,
      "autoclose": false,
      "autocomplete": true,
      "bibliofile": "biblio.bib",
      "cite_by": "apalike",
      "current_citInitial": 1,
      "eqLabelWithNumbers": true,
      "eqNumInitial": 1,
      "hotkeys": {
        "equation": "Ctrl-E",
        "itemize": "Ctrl-I"
      },
      "labels_anchors": false,
      "latex_user_defs": false,
      "report_style_numbering": false,
      "user_envs_cfg": false
    },
    "toc": {
      "base_numbering": 1,
      "nav_menu": {},
      "number_sections": true,
      "sideBar": true,
      "skip_h1_title": false,
      "title_cell": "Table of Contents",
      "title_sidebar": "Contents",
      "toc_cell": false,
      "toc_position": {},
      "toc_section_display": true,
      "toc_window_display": false
    },
    "varInspector": {
      "cols": {
        "lenName": 16,
        "lenType": 16,
        "lenVar": 40
      },
      "kernels_config": {
        "python": {
          "delete_cmd_postfix": "",
          "delete_cmd_prefix": "del ",
          "library": "var_list.py",
          "varRefreshCmd": "print(var_dic_list())"
        },
        "r": {
          "delete_cmd_postfix": ") ",
          "delete_cmd_prefix": "rm(",
          "library": "var_list.r",
          "varRefreshCmd": "cat(var_dic_list()) "
        }
      },
      "types_to_exclude": [
        "module",
        "function",
        "builtin_function_or_method",
        "instance",
        "_Feature"
      ],
      "window_display": false
    },
    "colab": {
      "name": "P1-Q3-V1.ipynb",
      "provenance": [],
      "toc_visible": true
    }
  },
  "cells": [
    {
      "cell_type": "markdown",
      "metadata": {
        "direction": "rtl",
        "id": "dQkxoKVKVhZp"
      },
      "source": [
        "<div style=\"direction:rtl;line-height:300%;\">\n",
        "\t<font face=\"XB Zar\" size=5>\n",
        "\t\t<div align=center>\n",
        "\t\t\t<font face=\"IranNastaliq\" size=30>\n",
        "\t\t\t\t<p></p>\n",
        "\t\t\t\t<p></p>\n",
        "به نام خدا\n",
        "\t\t\t\t<p></p>\n",
        "\t\t\t</font>\n",
        "\t\t\t<font color=#FF7500>\n",
        "دانشگاه صنعتی شریف - دانشکده مهندسی کامپیوتر\n",
        "            </font>\n",
        "\t\t\t<p></p>\n",
        "\t\t\t<font color=blue>\n",
        "هوش مصنوعی - دکتر محمدحسین رهبان\n",
        "            </font>\n",
        "\t\t\t<br />\n",
        "\t\t\t<br />\n",
        "زمستان ۱۳۹۹\n",
        "\t\t</div>\n",
        "\t\t<hr/>\n",
        "\t\t<div align=center>\n",
        "\t\t    <font color=red size=6>\n",
        "\t\t\t    <br />\n",
        "تمرین عملی اول\n",
        "            \t<br/>\n",
        "\t\t\t</font>\n",
        "طراح: امیرمهدی نامجو\n",
        "\t\t\t<br/><br/>\n",
        "موعد تحویل: ... ساعت ۲۳:۵۹  \n",
        "                <br/>\n",
        "                همفکری در تمامی تمرین‌های درس توصیه می‌شود. در عین حال از شما خواسته می‌شود تا تمام پیاده‌سازی را به تنهایی و بدون مشاهده کد دیگران انجام دهید.\n",
        "                <br/><br/>\n",
        "                <font color=red>\n",
        "                لطفا در فایل ارسالی تمام بلوک‌های کد اجرا شده و شامل نمودار‌ها و خروجی‌های لازم باشند.\n",
        "     </font>\n",
        "                <br/>\n",
        "        </style>\n",
        "\t</font>\n",
        "</div>"
      ]
    },
    {
      "cell_type": "markdown",
      "metadata": {
        "direction": "rtl",
        "id": "hkkMj8DGVhZx"
      },
      "source": [
        "نام و نام‌خانوادگی:"
      ]
    },
    {
      "cell_type": "markdown",
      "metadata": {
        "direction": "rtl",
        "id": "aAiDblTKVhZy"
      },
      "source": [
        "شماره دانشجویی:"
      ]
    },
    {
      "cell_type": "markdown",
      "metadata": {
        "direction": "rtl",
        "id": "8BHsc-x9VhZz"
      },
      "source": [
        "نام افرادی که با آن ها مشورت کردید"
      ]
    },
    {
      "cell_type": "markdown",
      "metadata": {
        "direction": "rtl",
        "id": "82jqonllVhZz"
      },
      "source": [
        "در صورتی که آخرین نسخه Jupyter Notebook را نصب ندارید، با دستور زیر آن را آپدیت کرده و سپس با بستن و باز کردن مجدد صفحه به حل سوال بپردازید. (آخرین نسخه Jupyter برای نمایش مناسب زبان فارسی بدون نیاز به کد html لازم است)"
      ]
    },
    {
      "cell_type": "code",
      "metadata": {
        "scrolled": true,
        "id": "KiBeX9ilVhZ0",
        "outputId": "3b7e45b7-5d0b-400b-fbb7-4e35ef5f82a7"
      },
      "source": [
        "#!pip install jupyter -U\n",
        "#!pip install notebook -U\n",
        "\n",
        "\n",
        "#If you use conda, uncomment lines below and run them.\n",
        "\n",
        "#!conda update jupyter\n",
        "#!conda update notebook"
      ],
      "execution_count": null,
      "outputs": [
        {
          "output_type": "error",
          "ename": "SyntaxError",
          "evalue": "invalid syntax (<ipython-input-17-924514df28cf>, line 3)",
          "traceback": [
            "\u001b[1;36m  File \u001b[1;32m\"<ipython-input-17-924514df28cf>\"\u001b[1;36m, line \u001b[1;32m3\u001b[0m\n\u001b[1;33m    pip install numpy\u001b[0m\n\u001b[1;37m        ^\u001b[0m\n\u001b[1;31mSyntaxError\u001b[0m\u001b[1;31m:\u001b[0m invalid syntax\n"
          ]
        }
      ]
    },
    {
      "cell_type": "markdown",
      "metadata": {
        "direction": "ltr",
        "id": "3xlsA8qUVhZ2"
      },
      "source": [
        "# Q3"
      ]
    },
    {
      "cell_type": "markdown",
      "metadata": {
        "direction": "rtl",
        "id": "4pFzRGdcVhZ2"
      },
      "source": [
        "در این سوال باید مسئله فروشنده دوره گرد را به کمک Simulated Annealing حل کرده و همچنین نتایج آن را با نتایج راه حل حریصانه مقایسه کنید تا ببینید آیا بهبودی حاصل می شود یا نه. به صورت قدم قدم ابتدا از لود کردن داده‌های تست شروع کرده، سپس حل حریصانه مسئله فروشنده دوره گرد‌ را بررسی کرده و در نهایت به سراغ روش Simulated Annealing می‌رویم. "
      ]
    },
    {
      "cell_type": "markdown",
      "metadata": {
        "direction": "rtl",
        "id": "VJ-0iGP1VhZ3"
      },
      "source": [
        "## صورت مسئله فروشنده دوره‌گرد"
      ]
    },
    {
      "cell_type": "markdown",
      "metadata": {
        "direction": "rtl",
        "id": "VxDpYfZNVhZ4"
      },
      "source": [
        "گراف کامل وزن دار $G = (V,E)$ را در نظر بگیرید. یک تابع وزن $f(e)$ هم تعریف شده است که به هر یال $e \\in E$ وزنی نسبت می‌دهد. هدف مسئله فروشنده دوره‌گرد پیدا کردن دوری در این گراف است که از تمامی «راس»‌ها بگذرد و بین تمامی دور‌های ممکن، کمترین وزن را داشته باشد. این مسئله در حالت کلی NP-Hard است و با فرض $P\\neq NP$، الگوریتم چندجمله‌ای که جواب بهینه را به ما بدهد وجود ندارد. از این رو استفاده از الگوریتم‌های تفریبی، حریصانه و یا الگوریتم‌های هیورستیک یا فراهیورستیک (نظیر Simulated Annealing) می‌تواند در حل سریع آن و بدست آوردن جواب بهینه محلی (و نه لزوما بهینه سراسری) موثر واقع شود. شکل خاصی که در این سوال بررسی می‌کنیم، با فرض فواصل اقلیدسی است و نامساوی مثلثی برای وزن‌یال‌ها برقرار بوده و عملا به نقاط گراف به چشم شهر‌های یک نقشه مسطح نگاه می‌کنیم. البته شکل اقلیدسی این مسئله نیز همانند حالت کلی NP-Hard است و در نتیجه الگوریتم چندجمله‌ای ندارد."
      ]
    },
    {
      "cell_type": "markdown",
      "metadata": {
        "direction": "rtl",
        "id": "nlLWqAmMVhZ4"
      },
      "source": [
        "## لود داده تست"
      ]
    },
    {
      "cell_type": "markdown",
      "metadata": {
        "direction": "rtl",
        "id": "6llXK9dAVhZ5"
      },
      "source": [
        "داده‌های تست در قالب یک فایل به نام test.txt در کنار این فایل قرار دارند. در هر خط این داده، دو عدد قرار دارد که نشان دهنده مختصات یک شهر (یک راس گراف) است. آن‌ها را در یک لیست (لیست معمولی پایتون یا آرایه numpy) ذخیره کنید. می‌توانید هر کدام را صرفا در قالب یک تاپل ذخیره‌کنید یا کلاسی برای شهر‌ها ایجاد کنید و از هر کدام یک شی بسازید. در این زمینه محدودیتی نیست. "
      ]
    },
    {
      "cell_type": "code",
      "metadata": {
        "id": "3nWg2X6AVhZ6"
      },
      "source": [
        "cities =[]\n",
        "def load_data(path = \"test.txt\"):\n",
        "    f = open(path)\n",
        "    for x in f:\n",
        "        temp = x.split(\" \")\n",
        "        cities.append((float(temp[0]),float(temp[1])))\n",
        "load_data()\n",
        "\n"
      ],
      "execution_count": 1,
      "outputs": []
    },
    {
      "cell_type": "markdown",
      "metadata": {
        "direction": "rtl",
        "id": "ZGpp5lBdVhZ7"
      },
      "source": [
        "# تابع فاصله دو شهر و تابع هزینه مسیر"
      ]
    },
    {
      "cell_type": "markdown",
      "metadata": {
        "direction": "rtl",
        "id": "DBjVNJW7VhZ7"
      },
      "source": [
        "در این قسمت باید تابع distance و تابع cost را تعریف کنید. تابع distance دو شهر را ورودی گرفته (با هر فرمتی که ذخیره کرده‌اید) و فاصله فیثاغورثی بین آن دو را خروجی می‌دهد. منظور از فاصله فیثاغورثی، $\\sqrt{(x_1-x_2)^2 + (y_1-y_2)^2}$ است. تابع cost یک لیست از شهر‌ها ورودی گرفته که بیانگر ترتیب پیمودن شهر‌هاست. این تابع باید فاصله هر شهر با شهر بعدی را بدست آورده و در نهایت مجموع این فواصل را گزارش کند. فراموش نکنید که باید از شهر آخر به شهر اول برگردیم و فاصله این دو هم در محاسبه دخیل است."
      ]
    },
    {
      "cell_type": "code",
      "metadata": {
        "id": "tIpfkauqVhZ7"
      },
      "source": [
        "from math import sqrt\n",
        "def distance(city1 , city2):\n",
        "    return sqrt((city1[0] - city2[0])**2 + (city1[1] - city2[1])**2)\n",
        "def cost(cities):\n",
        "    d ,temp = 0,cities[len(cities)-1]\n",
        "    for i in cities:\n",
        "        d+=distance(i,temp)\n",
        "        temp = i\n",
        "    return d\n",
        "        \n"
      ],
      "execution_count": 3,
      "outputs": []
    },
    {
      "cell_type": "markdown",
      "metadata": {
        "direction": "rtl",
        "id": "zckCFZ3eVhZ7"
      },
      "source": [
        "## راه‌حل حریصانه اولیه"
      ]
    },
    {
      "cell_type": "markdown",
      "metadata": {
        "direction": "rtl",
        "id": "DtroAlR4VhZ8"
      },
      "source": [
        "به عنوان راه‌حل اول مسئله را به شکل حریصانه حل کنید. از جواب بدست آمده در این بخش برای حالت شروع در قسمت Simulated Annealing استفاده خواهیم کرد و نتیجه نهایی آن را با Simulated Annealing مقایسه خواهیم کرد. در راه حل حریصانه، یک مجموعه شامل همه شهر ها در نظر بگیرید. بار اول یک شهر تصادفی را انتخاب کرده و از مجموعه خارج کنید. سپس هر بار فاصله این شهر جدید را با تمامی شهر‌ها بدست آورده و شهر با کمترین فاصله را به عنوان شهر بعدی انتخاب کنید. شهر جدید را از مجموعه خارج کرده و فرآیند را برای این شهر و سایرشهر‌های لیست ادامه دهید. این کا را تا جایی ادامه دهید که مجموعه خالی بشود. در نهایت هزینه مسیر را گزارش کنید."
      ]
    },
    {
      "cell_type": "code",
      "metadata": {
        "id": "ism1zaysVhZ9"
      },
      "source": [
        "import random\n",
        "import numpy as np\n",
        "\n",
        "def greedy_solution(cities : list):\n",
        "    start,count,temp_distance,index =[],len(cities)-1,np.inf,0\n",
        "    last = cities.pop(random.randint(0,len(cities)-1))\n",
        "    start.append(last)\n",
        "    while count!=0:\n",
        "        for i in range(count):\n",
        "            d = distance(cities[i],last)\n",
        "            if (d ) < temp_distance:\n",
        "                temp_distance = d\n",
        "                index = i\n",
        "        count-=1\n",
        "        last ,temp_distance= cities.pop(index),np.inf\n",
        "        start.append(last)\n",
        "    return start,cost(start)\n"
      ],
      "execution_count": 10,
      "outputs": []
    },
    {
      "cell_type": "markdown",
      "metadata": {
        "id": "7bpic4Q4VhZ9"
      },
      "source": [
        "# Simulated Annealing"
      ]
    },
    {
      "cell_type": "markdown",
      "metadata": {
        "direction": "rtl",
        "id": "MUP33KPyVhZ-"
      },
      "source": [
        "حال به سراغ پیاده سازی روش Simulated Annealing می رویم. روشی که در این جا مد نظر داریم این است که در هر iteration از الگوریتم، یک همسایه از نقطه فعلی را انتخاب کنید. اگر هزینه همسایه از نقطه فعلی کمتر بود آن را می پذیریم و نقطه فعلی را برابر همسایه قرار می دهیم. اگر هزینه بیش‌تر بود، با احتمال خاصی باز هم نقطه را می پذیریم. دقیقا این همان قسمتی است که Simulated Annealing وارد کار می‌شود. این احتمال براساس اختلاف هزینه (یا Fitness) دو حالت و همچنین متغیری به نام دما تعیین می‌شود. این دما در طی iteration‌های مختلف تغییر می‌کند و هسته اصلی الگوریتم را می‌سازد. این که مقدار اولیه T چه چیزی باشد و چه طور تغییر کند، بسته به کاربرد متفاوت خواهد بود. این مقدار را با تست‌های مختلف خودتان تعیین کنید. متغیر T را در قسمتی که خود الگوریتم را پیاده سازی می‌کنید باید خودتان مقداردهی کنید. "
      ]
    },
    {
      "cell_type": "code",
      "metadata": {
        "id": "RyLsrfByVhZ-"
      },
      "source": [
        "from math import sqrt\n",
        "T = sqrt(len(cities))"
      ],
      "execution_count": 11,
      "outputs": []
    },
    {
      "cell_type": "markdown",
      "metadata": {
        "direction": "rtl",
        "id": "WVtgZea3VhZ-"
      },
      "source": [
        "# بدست آوردن همسایه"
      ]
    },
    {
      "cell_type": "markdown",
      "metadata": {
        "direction": "rtl",
        "id": "vW1AimDRVhZ_"
      },
      "source": [
        "برای تولید همسایه یک جواب، به شکل‌های مختلفی می‌توان عمل کرد. یک راه رایج این است که دو نقطه در لیست ترتیب طی کردن فعلی شهر‌ها انتخاب کرده و ترتیب ورود به شهر‌ها در آن لیست را برعکس کنید. راه‌های دیگری هم قابل تصور است. برای این کار get_neighbour را پیاده‌سازی کنید که یک لیست از ترتیب طی کردن شهر‌ها گرفته و یک لیست جدید از ترتیب طی کردن آنان ایجاد می‌کند."
      ]
    },
    {
      "cell_type": "code",
      "metadata": {
        "id": "PDDY0OKIVhZ_"
      },
      "source": [
        "def get_neighbour(cities: list):\n",
        "    size = len(cities)\n",
        "    start,extra = random.randint(0, size-1) , random.randint(0, size-1)\n",
        "    new_cities = list(cities)\n",
        "    new_cities[start: (start+extra)] = reversed(new_cities[start: (start+extra)])\n",
        "    return new_cities"
      ],
      "execution_count": 12,
      "outputs": []
    },
    {
      "cell_type": "markdown",
      "metadata": {
        "direction": "rtl",
        "id": "WRcRmyfvVhZ_"
      },
      "source": [
        "# پیاده‌سازی احتمال پذیرفته‌شدن یک حالت "
      ]
    },
    {
      "cell_type": "markdown",
      "metadata": {
        "direction": "rtl",
        "id": "ZvzLQecRVhaA"
      },
      "source": [
        "در این قسمت تابع prob_accept را پیاده سازی‌کنید که سه عدد که نشان‌گر هزینه حالت فعلی، هزینه حالت پیشنهادی و دما است را می‌گیرد و احتمال مربوط به الگوریتم Simulated Annealing با فرمول $e^{-\\Delta C / T}$ تولید می‌کند."
      ]
    },
    {
      "cell_type": "code",
      "metadata": {
        "id": "pt0yvn-3VhaA"
      },
      "source": [
        "import math\n",
        "\n",
        "def prob_accept(curr_cost , next_cost , T):\n",
        "    try:\n",
        "        return math.exp(-abs(next_cost - curr_cost) / T)\n",
        "    except:\n",
        "        return 0\n",
        "    pass"
      ],
      "execution_count": 13,
      "outputs": []
    },
    {
      "cell_type": "markdown",
      "metadata": {
        "direction": "rtl",
        "id": "vLi48AmhVhaA"
      },
      "source": [
        "# پیاده‌سازی پذیرفته شدن یا نشدن یک حالت"
      ]
    },
    {
      "cell_type": "markdown",
      "metadata": {
        "direction": "rtl",
        "id": "6DIbGrxyVhaA"
      },
      "source": [
        "در این بخش باید تابع accept را بنویسید که با گرفتن جواب فعلی و جواب احتمالی آتی و دما، مشخص کند که جواب آتی انتخاب خواهد شد یا نه. "
      ]
    },
    {
      "cell_type": "code",
      "metadata": {
        "id": "Kon68DTqVhaB"
      },
      "source": [
        "def accept(current_state , next_state , T):\n",
        "    cur_cost,nst_cost = cost(current_state),cost(next_state)\n",
        "    probe_choose = prob_accept(cur_cost,nst_cost,T)\n",
        "    if nst_cost < cur_cost:\n",
        "        return next_state,nst_cost\n",
        "    if random.random() < probe_choose:\n",
        "        return next_state,nst_cost\n",
        "    return current_state,cur_cost\n"
      ],
      "execution_count": 14,
      "outputs": []
    },
    {
      "cell_type": "markdown",
      "metadata": {
        "direction": "rtl",
        "id": "gr1O_foGVhaB"
      },
      "source": [
        "# پیاده‌سازی نهایی Simulated Annealing"
      ]
    },
    {
      "cell_type": "markdown",
      "metadata": {
        "direction": "rtl",
        "id": "C4QJrkPQVhaB"
      },
      "source": [
        "در این بخش پیاده‌سازی نهایی روش باید انجام گیرد. برای آپدیت دما در هر Iteration، مقدار آن را در ضریب کوچک‌تر از ۱ نظیر $\\alpha$ ضرب کنید. همچنین محدودیتی روی حداقل دمای ممکن و حداکثر تعداد Iteration‌ها تعیین کنید تا بعد از آن فرآیند به پایان برسد. هزینه حالت انتخاب شده در پایان هر Iteration را هم در یک آرایه ذخیره کنید. در قسمت بعدی به آن نیاز داریم. بهبود حدودا 7 تا 8 درصدی نسبت به راه حریصانه برای گرفتن نمره سوال کافیست. "
      ]
    },
    {
      "cell_type": "code",
      "metadata": {
        "id": "OXyscQCKVhaB"
      },
      "source": [
        "cost_list = []\n",
        "def anneal(cities, stopping_temperature=1e-8, stopping_iter=5000 , alpha=0.995):\n",
        "    T = sqrt(len(cities))\n",
        "    cost_list.clear()\n",
        "    # Initialize with the greedy solution.\n",
        "    curr_solution, curr_cost = greedy_solution(cities)\n",
        "    best_solution, best_cost = curr_solution, curr_cost\n",
        "    cost_list.append(curr_cost)\n",
        "    iteration = 0\n",
        "    print(\"Starting annealing.\")\n",
        "    while iteration <= stopping_iter and T > stopping_temperature :\n",
        "        temp_sol = get_neighbour(curr_solution)\n",
        "        curr_solution,curr_cost =accept(curr_solution , temp_sol , T)\n",
        "        if curr_cost < best_cost:\n",
        "            best_cost = curr_cost\n",
        "            best_solution = curr_solution\n",
        "        cost_list.append(curr_cost)\n",
        "        T,iteration = alpha*T,iteration+1\n",
        "    print(\"Best fitness obtained: \", best_cost)\n",
        "    improvement = 100 * (cost_list[0] - best_cost) / (cost_list[0])\n",
        "    print(f\"Improvement over greedy heuristic: {improvement : .2f}%\")\n",
        "    print(iteration)\n",
        "    return best_solution , best_cost"
      ],
      "execution_count": 15,
      "outputs": []
    },
    {
      "cell_type": "code",
      "metadata": {
        "scrolled": true,
        "colab": {
          "base_uri": "https://localhost:8080/"
        },
        "id": "-f0Q0w77VhaC",
        "outputId": "2e60277b-ac90-439e-8f04-1cf22cf5d308"
      },
      "source": [
        "load_data()\n",
        "best_solution , best_cost = anneal(cities)"
      ],
      "execution_count": 24,
      "outputs": [
        {
          "output_type": "stream",
          "text": [
            "Starting annealing.\n",
            "Best fitness obtained:  643.5731442120576\n",
            "Improvement over greedy heuristic:  20.61%\n",
            "4055\n"
          ],
          "name": "stdout"
        }
      ]
    },
    {
      "cell_type": "markdown",
      "metadata": {
        "direction": "rtl",
        "id": "a2u_TCcGVhaC"
      },
      "source": [
        "# مصورسازی"
      ]
    },
    {
      "cell_type": "markdown",
      "metadata": {
        "direction": "rtl",
        "id": "c7ud-ax-VhaD"
      },
      "source": [
        "نمودار هزینه جواب بدست آمده در پایان هر Iteration را بر حسب شماره Iteration رسم کنید. "
      ]
    },
    {
      "cell_type": "code",
      "metadata": {
        "colab": {
          "base_uri": "https://localhost:8080/",
          "height": 279
        },
        "id": "Mp7Ni-hDVhaD",
        "outputId": "3ec339bd-497c-437a-d5aa-99e94c64073b"
      },
      "source": [
        "import matplotlib.pyplot as plt\n",
        "def plot_cost(cost_list):\n",
        "    plt.plot([i for i in range(len(cost_list))], cost_list)\n",
        "    plt.ylabel(\"Fitness\")\n",
        "    plt.xlabel(\"Iteration\")\n",
        "    plt.show()\n",
        "plot_cost(cost_list)"
      ],
      "execution_count": 25,
      "outputs": [
        {
          "output_type": "display_data",
          "data": {
            "image/png": "[encoded data removed]",
            "text/plain": [
              "<Figure size 432x288 with 1 Axes>"
            ]
          },
          "metadata": {
            "tags": [],
            "needs_background": "light"
          }
        }
      ]
    },
    {
      "cell_type": "markdown",
      "metadata": {
        "direction": "rtl",
        "id": "wDg8dN3bVhaE"
      },
      "source": [
        "نقاطی که در جواب بدست آمده را روی نمودار نشان داده و به ترتیبی که دیده شده‌اند با خط به یکدیگر وصل کنید."
      ]
    },
    {
      "cell_type": "code",
      "metadata": {
        "colab": {
          "base_uri": "https://localhost:8080/",
          "height": 294
        },
        "id": "dxYH7_zmVhaE",
        "outputId": "604c3a7f-5189-4c82-f633-7965e38161fa"
      },
      "source": [
        "import matplotlib.pyplot as plt\n",
        "\n",
        "def plot_path(best_solution):\n",
        "    fig = plt.figure()\n",
        "    fig.add_subplot(111)\n",
        "    fig.subplots_adjust(top=0.85)\n",
        "    fig.suptitle('red point is starting point', fontsize=10)\n",
        "    size = len(best_solution)\n",
        "#black point is starting_point\n",
        "    for i in range(len(best_solution)):\n",
        "        plt.arrow(best_solution[i][0],best_solution[i][1],best_solution[(i+1)%size][0]-best_solution[i%size][0],best_solution[(i+1)%size][1]-best_solution[i%size][1], color='b', length_includes_head=True, \n",
        "        zorder=0, head_length=3, head_width=3)\n",
        "    x,y = [],[]\n",
        "    for i in best_solution:\n",
        "        x.append(i[0])\n",
        "        y.append(i[1])\n",
        "    plt.scatter(x, y,color = \"blue\")\n",
        "    plt.plot(x[0], y[0], 'o', color='r')\n",
        "    plt.show()  \n",
        "plot_path(best_solution)\n",
        "    "
      ],
      "execution_count": 26,
      "outputs": [
        {
          "output_type": "display_data",
          "data": {
            "image/png": "[encoded data removed]",
            "text/plain": [
              "<Figure size 432x288 with 1 Axes>"
            ]
          },
          "metadata": {
            "tags": [],
            "needs_background": "light"
          }
        }
      ]
    }
  ]
}