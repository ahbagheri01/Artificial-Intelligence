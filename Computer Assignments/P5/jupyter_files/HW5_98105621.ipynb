{
  "nbformat": 4,
  "nbformat_minor": 0,
  "metadata": {
    "colab": {
      "name": "HW5_98105621.ipynb",
      "provenance": [],
      "collapsed_sections": []
    },
    "kernelspec": {
      "name": "python3",
      "display_name": "Python 3"
    },
    "language_info": {
      "name": "python"
    }
  },
  "cells": [
    {
      "cell_type": "markdown",
      "metadata": {
        "id": "0Bo8B7muFmAb"
      },
      "source": [
        "NAME : amirhossein bagheri \\\\\n",
        "STUDENT ID : 98105621"
      ]
    },
    {
      "cell_type": "code",
      "metadata": {
        "id": "ucZuBUvu5xSV"
      },
      "source": [
        "import datetime\n",
        "import gym\n",
        "import numpy as np\n",
        "from datetime import datetime\n",
        "import matplotlib.pyplot as plt"
      ],
      "execution_count": null,
      "outputs": []
    },
    {
      "cell_type": "code",
      "metadata": {
        "id": "rEFSFsl7fL63"
      },
      "source": [
        "class DQAgent:\n",
        "    def __init__(self, env):\n",
        "        self.env = env\n",
        "        num_states = (env.observation_space.high - env.observation_space.low) * np.array([10, 100])\n",
        "        num_states = np.round(num_states, 0).astype(int) + 1\n",
        "        self.Q = np.zeros((num_states[0], num_states[1],env.action_space.n))\n",
        "        self.min = env.observation_space.low\n",
        "    def save(self, path,start,end):\n",
        "        np.save(path, self.Q)\n",
        "        file = open('training_time.txt', 'w')\n",
        "        file.write(\"start time is : \"+str(start)+\"\\n\"+\"end time is : \"+str(end)+\"\\n\"+\"total time is : \"+str(end - start))\n",
        "        file.close()\n",
        "    def load(self, path):\n",
        "        self.Q = np.load(path)\n",
        "    def test(self):\n",
        "      reward = 0\n",
        "      env = self.env\n",
        "      Q = self.Q\n",
        "      obs = env.reset()\n",
        "      done = False\n",
        "      while done != True:\n",
        "        state = self.get_state(obs)\n",
        "        action = np.argmax(Q[state[0], state[1]])\n",
        "        obs, r, done, info = env.step(action)\n",
        "        reward +=r\n",
        "        if done and obs[0] >= 0.5:\n",
        "          break\n",
        "      return reward\n",
        "    def get_state(self,obs):\n",
        "      return np.round((obs - self.min) * np.array([10, 100])).astype(int)\n",
        "    def train(self, learning, discount, epsilon, minE, episodes):\n",
        "        reduction = (epsilon - minE) / episodes\n",
        "        env = self.env\n",
        "        Q = self.Q\n",
        "        start = datetime.now()\n",
        "        for e in range(episodes) :\n",
        "            done = False\n",
        "            obs = env.reset()\n",
        "            current = self.get_state(obs)\n",
        "            while done != True:\n",
        "                i,j = current[0],current[1]\n",
        "                action = np.argmax(Q[i, j]) if np.random.random() > epsilon else np.random.randint(0, 3)\n",
        "                obs, reward, done, info = env.step(action)\n",
        "                next_state = self.get_state(obs)\n",
        "                i_p,j_p = next_state[0],next_state[1]\n",
        "                if done and obs[0] >= 0.5:\n",
        "                    Q[i,j, action] = reward\n",
        "                else:\n",
        "                    Q[i,j, action] += learning * (reward + discount * np.max(Q[i_p,j_p]) -Q[i,j, action])\n",
        "                current = next_state\n",
        "                epsilon -= reduction\n",
        "        env.close()\n",
        "        self.Q = Q\n",
        "        end = datetime.now()\n",
        "        self.save(\"policy\",start,end)\n",
        "        return start,end"
      ],
      "execution_count": null,
      "outputs": []
    },
    {
      "cell_type": "code",
      "metadata": {
        "colab": {
          "base_uri": "https://localhost:8080/"
        },
        "id": "uRIl0UmvcsBD",
        "outputId": "6b077036-9946-467a-aa81-7dd7b5924643"
      },
      "source": [
        "!pip install matplotlib\n",
        "!pip install gym"
      ],
      "execution_count": null,
      "outputs": [
        {
          "output_type": "stream",
          "text": [
            "Requirement already satisfied: matplotlib in /usr/local/lib/python3.7/dist-packages (3.2.2)\n",
            "Requirement already satisfied: cycler>=0.10 in /usr/local/lib/python3.7/dist-packages (from matplotlib) (0.10.0)\n",
            "Requirement already satisfied: python-dateutil>=2.1 in /usr/local/lib/python3.7/dist-packages (from matplotlib) (2.8.1)\n",
            "Requirement already satisfied: numpy>=1.11 in /usr/local/lib/python3.7/dist-packages (from matplotlib) (1.19.5)\n",
            "Requirement already satisfied: pyparsing!=2.0.4,!=2.1.2,!=2.1.6,>=2.0.1 in /usr/local/lib/python3.7/dist-packages (from matplotlib) (2.4.7)\n",
            "Requirement already satisfied: kiwisolver>=1.0.1 in /usr/local/lib/python3.7/dist-packages (from matplotlib) (1.3.1)\n",
            "Requirement already satisfied: six in /usr/local/lib/python3.7/dist-packages (from cycler>=0.10->matplotlib) (1.15.0)\n",
            "Requirement already satisfied: gym in /usr/local/lib/python3.7/dist-packages (0.17.3)\n",
            "Requirement already satisfied: pyglet<=1.5.0,>=1.4.0 in /usr/local/lib/python3.7/dist-packages (from gym) (1.5.0)\n",
            "Requirement already satisfied: numpy>=1.10.4 in /usr/local/lib/python3.7/dist-packages (from gym) (1.19.5)\n",
            "Requirement already satisfied: scipy in /usr/local/lib/python3.7/dist-packages (from gym) (1.4.1)\n",
            "Requirement already satisfied: cloudpickle<1.7.0,>=1.2.0 in /usr/local/lib/python3.7/dist-packages (from gym) (1.3.0)\n",
            "Requirement already satisfied: future in /usr/local/lib/python3.7/dist-packages (from pyglet<=1.5.0,>=1.4.0->gym) (0.16.0)\n"
          ],
          "name": "stdout"
        }
      ]
    },
    {
      "cell_type": "markdown",
      "metadata": {
        "id": "CFjyuzJP6q6e"
      },
      "source": [
        "<div dir=\"rtl\">\n",
        "حال به شرح تکه کد بالا می‌پردازیم:\n",
        "در قسمت constructorدو کار انجام می‌شود یکی آنکه مقادیر Q-table ها با مقادیر صفر پر می‌شوند که یک آرایه ۳ بعدی است که دو بعد اول آن معرف استیت و هر استیت یک آرایه به طول ۳ از مقادیر است که نشان دهنده مقدار value آن اکشن آن استیت است.\n",
        "همچنین مقادیر minimum سرعت و مختصات نیز ذخیره می‌شوند زیرا برای محاسبه استیت به آنها نیاز داریم.\n",
        "</div>\n",
        "\n",
        "<div dir=\"rtl\">\n",
        "بدست آوردن استیت:\n",
        "از‌آنجا که فضا پیوسته است برای محاسبه استیت نیاز به گسسته سازی آن داریم مقادیر بین بازه های سرعت و مختصات را رب حسب بیشترین دقت اعشاری اشان  , تقسیم بندی می‌کنیم به صورتی که بازه سرعت به بازه های 0.01تبدیل شده و بازه مختصات به بازه های 0.1 تقسیم می‌شود .\n",
        "</div>\n",
        "<div dir=\"rtl\">\n",
        "تابع get_state(): این تابع به سادگی اندیس استیت های مورد نظر را می دهید به صورتی که minimum را از سرعت و مختصات فعلی کم کرده و اعداد را در ۱۰ و۱۰۰ ضرب کرده و رند می‌کند.\n",
        "</div>\n",
        "<div dir=\"rtl\">\n",
        "توابع load  و save واضح اند.\n",
        "\n",
        "</div>\n",
        "<div dir=\"rtl\">\n",
        "تابع test محیط را یکبار ران می‌کند و برحسب جدول Q ها action مناسب را انتخاب می‌کند و ریوارد های هر action را جمع می‌زند و در آخر آنرا ریترن می‌کند.\n",
        "</div>\n",
        "<div dir=\"rtl\">\n",
        "تابع train(): این تابع ۵ آرگومان ورودی می‌گیرد که در ادامه به شرح و بررسی هر کدام مب‌پردازیم:\n",
        "\n",
        "</div>\n",
        "<div dir=\"rtl\">\n",
        "learning : همیان پارامتر learning rate در الگوریتم Q learning \n",
        "</div>\n",
        "<div dir=\"rtl\">\n",
        "discount : دراین مساله مقدار آن یک فرض می‌شود.\n",
        "\n",
        "</div>\n",
        "<div dir=\"rtl\">\n",
        "epsilon , minE : در روش مورد استفاده ما که روش epsilon decay یا epsilon greedy نام دارد مقدار اولیه epsilon مشخص می  کند که از ابتدا چقدر agent به exploreبپردازد هر چه مقدار آن بیشتر باشد بیشتر به اکسپلور پرداحته می‌شود.\n",
        "دقت کنید که با روند رو به جلو الگوریتم این مقدار کاهش می‌یابد  تا در نهایت با کانورج دیگر الگوریتم اکسپلور انجام ندهد.\n",
        ". مقدار minE نیز کران پایین مقدار اپسیلون است.\n",
        "</div>\n",
        "<div dir=\"rtl\">\n",
        "episodes  : تعداد اپیزود های را مشخص می‌کند.\n",
        "\n",
        "</div>\n",
        "<div dir=\"rtl\">\n",
        "فرایند train :\n",
        "</div>\n",
        "</div>\n",
        "<div dir=\"rtl\">\n",
        "در ابتدا چون اپسیلون زیاد است agent می تواند اکسپلور انجام دهد. و پس از مدتی مقدار اپسیلون کاهش می‌یابد و agent بر حسب مقادیر Q ها تصمیم می‌گیرد(به احتمال زیاد). دقت کنید که در هر مرحله به صورت on policy مقادیر Q اپدیت می‌شود.\n",
        "</div>\n",
        "<div dir=\"rtl\">\n",
        "پارامتر های learning , episods بر اساس چندین بار آزمایش مقادیر مطلوبشان بدست آمده است.\n",
        "</div>\n",
        "\n"
      ]
    },
    {
      "cell_type": "markdown",
      "metadata": {
        "id": "NPkAjsCa0KpC"
      },
      "source": [
        "<div dir=\"rtl\">\n",
        "همانطور که مشاهده می‌کنید با ۵۰۰۰۰ اپیزود و مدت ترین ۱۱ دقیقه مدل را ترین کرده و نتایج را در قالب یک فایل به اسم policy ذخیره می‌کنیم.\n",
        "</div>"
      ]
    },
    {
      "cell_type": "code",
      "metadata": {
        "colab": {
          "base_uri": "https://localhost:8080/"
        },
        "id": "pjI-btFNjpc4",
        "outputId": "f08747e0-78d2-458a-d86d-10841fc4a7db"
      },
      "source": [
        "env = gym.make(\"MountainCar-v0\")\n",
        "agent = DQAgent(env)\n",
        "start,end = agent.train(learning = 0.25, discount = 1, epsilon = 1, minE = 0, episodes = 50000  )\n",
        "print(\"traning time : \",end - start)"
      ],
      "execution_count": null,
      "outputs": [
        {
          "output_type": "stream",
          "text": [
            "traning time :  0:09:29.006052\n"
          ],
          "name": "stdout"
        }
      ]
    },
    {
      "cell_type": "markdown",
      "metadata": {
        "id": "8xlKQ6sG1GuA"
      },
      "source": [
        "<div dir=\"rtl\">\n",
        "در طی ۱۱ دقیقه مدل ترین شده و مقادیر qاماده استفاده برای بخش تست هستند.\n",
        "</div>"
      ]
    },
    {
      "cell_type": "markdown",
      "metadata": {
        "id": "qmWfBfz91K6G"
      },
      "source": [
        "<div dir=\"rtl\">\n",
        "در قسمت زیر مدل را ۱۰۰۰۰ بار تست می‌کنیم و نتایج تست هارا در یک آرایه ذخیره می‌کنیم. و آنرا در قالب یک npy ذخیره می‌کنیم.\n",
        "دقت کنید از آنجا که q های نهایی را در قسمت قبی ذخیره کرده ایم در این قسمت یک مدل جدید می‌سازیم و مقادیر قسمت قبل را در آن لود می‌کنیم.\n",
        "(اینکار به جهت سهولت برای اجرای سل ها انجام شده است.)\n",
        "</div>"
      ]
    },
    {
      "cell_type": "code",
      "metadata": {
        "id": "hEfTw8cVfQO8"
      },
      "source": [
        "env = gym.make(\"MountainCar-v0\")\n",
        "agent = DQAgent(env)\n",
        "agent.load(\"policy.npy\")\n",
        "rewards = []\n",
        "for i in range(10000):\n",
        "  rewards.append(agent.test())\n",
        "np.save(\"reward_list_results\", np.array(rewards))\n"
      ],
      "execution_count": null,
      "outputs": []
    },
    {
      "cell_type": "markdown",
      "metadata": {
        "id": "-dmtdgo90x61"
      },
      "source": [
        "<div dir=\"rtl\">\n",
        "در قسمت زیر به بررسی مقادیر بدست آمده از ۱۰۰۰ تست می‌پردازیم.\n",
        "اینکه چه تعداد از انها کمتر از -150 شده اند و چه تعداد از آنها کمتر از -140شده اند.\n",
        "میانگین ریوارد های چه عددیست و standard deviationاشان  همچنین با استفاده از histogram مقادیر ریوارد های بدست آمده را نشان می‌دهیم.\n",
        " \n",
        "</div>"
      ]
    },
    {
      "cell_type": "code",
      "metadata": {
        "colab": {
          "base_uri": "https://localhost:8080/",
          "height": 688
        },
        "id": "T9dJBdcOfVhh",
        "outputId": "6504cb96-907e-465f-de05-45aeb4be0dcb"
      },
      "source": [
        "array = np.load(\"reward_list_results.npy\")\n",
        "file = open('test_results.txt', 'w')\n",
        "size = len(array)\n",
        "s =sum(array >= -140)\n",
        "res = \"number of more than -140 from \"+str(len(array))+\" test : \"+str(s)+\" \"+str(100*s/size)+\"%\\n\"\n",
        "s =sum(array >= -150)\n",
        "res+=\"number of more than -150 from \"+str(len(array))+\" test :  \"+str(s)+\" \"+str(100*s/size)+\"%\\n\"\n",
        "fig = plt.gcf()\n",
        "fig.set_size_inches(18.5, 10.5)\n",
        "plt.hist(array, bins=40, density=True, alpha=0.6, color='b')\n",
        "plt.savefig(\"result_plot.png\")\n",
        "res+=\"rewards mean is : \"+str(np.mean(rewards))+\"\\n\"\n",
        "res+=\"rewards std is : \"+str(np.std(rewards))\n",
        "file.write(res)\n",
        "file.close()\n",
        "print(res)"
      ],
      "execution_count": null,
      "outputs": [
        {
          "output_type": "stream",
          "text": [
            "number of more than -140 from 10000 test : 9786 97.86%\n",
            "number of more than -150 from 10000 test :  10000 100.0%\n",
            "rewards mean is : -137.3932\n",
            "rewards std is : 1.9314745041030184\n"
          ],
          "name": "stdout"
        },
        {
          "output_type": "display_data",
          "data": {
            "image/png": "[encoded data removed]",
            "text/plain": [
              "<Figure size 1332x756 with 1 Axes>"
            ]
          },
          "metadata": {
            "tags": [],
            "needs_background": "light"
          }
        }
      ]
    }
  ]
}